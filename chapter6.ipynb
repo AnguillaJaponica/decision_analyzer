{
  "nbformat": 4,
  "nbformat_minor": 0,
  "metadata": {
    "colab": {
      "name": "chapter6.ipynb",
      "provenance": [],
      "collapsed_sections": [],
      "authorship_tag": "ABX9TyPvvKx3ubVR2y+KIBt8vW7o",
      "include_colab_link": true
    },
    "kernelspec": {
      "name": "python3",
      "display_name": "Python 3"
    },
    "language_info": {
      "name": "python"
    }
  },
  "cells": [
    {
      "cell_type": "markdown",
      "metadata": {
        "id": "view-in-github",
        "colab_type": "text"
      },
      "source": [
        "<a href=\"https://colab.research.google.com/github/AnguillaJaponica/decision_analyzer/blob/master/chapter6.ipynb\" target=\"_parent\"><img src=\"https://colab.research.google.com/assets/colab-badge.svg\" alt=\"Open In Colab\"/></a>"
      ]
    },
    {
      "cell_type": "code",
      "metadata": {
        "id": "Wwy20l75lBsp"
      },
      "source": [
        "# import libraries\n",
        "import numpy as np\n",
        "import pandas as pd\n",
        "# DataFrameの全角文字の出力をきれいにする。\n",
        "pd.set_option('display.unicode.east_asian_width', True)\n",
        "# 本文の数値と合わせるために、小数点以下3桁で丸める\n",
        "pd.set_option('display.precision', 3)"
      ],
      "execution_count": 5,
      "outputs": []
    },
    {
      "cell_type": "code",
      "metadata": {
        "id": "ZCWVcHD6fLEJ"
      },
      "source": [
        "# 最大値を取るインデックスを取得する。最大値が複数ある場合は全て取得する。\n",
        "def argmax_list(series):\n",
        "  return(list(series[series == series.max()].index))"
      ],
      "execution_count": 6,
      "outputs": []
    },
    {
      "cell_type": "code",
      "metadata": {
        "id": "9fFA56aHfWj7"
      },
      "source": [
        "# 期待金額最大化に基づく意思決定を行う関数\n",
        "def max_emv(probs, payoff_table):\n",
        "  emv = payoff_table.mul(probs, axis=0).sum()\n",
        "  max_emv = emv.max()\n",
        "  a_star = argmax_list(emv)\n",
        "  return(pd.Series([a_star, max_emv], index=['選択肢', '期待金額']))"
      ],
      "execution_count": 7,
      "outputs": []
    },
    {
      "cell_type": "code",
      "metadata": {
        "colab": {
          "base_uri": "https://localhost:8080/"
        },
        "id": "GYvEJ9clk9Rk",
        "outputId": "738712ff-e7ae-4571-c239-45f19410bbd7"
      },
      "source": [
        "payoff = pd.DataFrame({\n",
        "    '1台': [300, 300],\n",
        "    '２台': [700, -300]\n",
        "})\n",
        "payoff.index = ['好況', '不況']\n",
        "print(payoff)"
      ],
      "execution_count": 8,
      "outputs": [
        {
          "output_type": "stream",
          "text": [
            "      1台  ２台\n",
            "好況  300   700\n",
            "不況  300  -300\n"
          ],
          "name": "stdout"
        }
      ]
    },
    {
      "cell_type": "code",
      "metadata": {
        "colab": {
          "base_uri": "https://localhost:8080/"
        },
        "id": "1KQZf4fQls5-",
        "outputId": "70166d10-9dd5-4ce0-deb5-5cec688744e6"
      },
      "source": [
        "joint_forecast_state = pd.DataFrame({\n",
        "    '好況予測': [0.35, 0.1],\n",
        "    '不況予測': [0.05, 0.5]\n",
        "})\n",
        "joint_forecast_state.index = ['好況', '不況']\n",
        "print(joint_forecast_state)"
      ],
      "execution_count": 9,
      "outputs": [
        {
          "output_type": "stream",
          "text": [
            "      好況予測  不況予測\n",
            "好況      0.35      0.05\n",
            "不況      0.10      0.50\n"
          ],
          "name": "stdout"
        }
      ]
    },
    {
      "cell_type": "code",
      "metadata": {
        "colab": {
          "base_uri": "https://localhost:8080/"
        },
        "id": "DPSt-X1Dl5NR",
        "outputId": "9b45032d-98ad-4b32-c8cb-b751e0b19173"
      },
      "source": [
        "marginal_forecast = joint_forecast_state.sum(axis=0)\n",
        "marginal_forecast"
      ],
      "execution_count": 10,
      "outputs": [
        {
          "output_type": "execute_result",
          "data": {
            "text/plain": [
              "好況予測    0.45\n",
              "不況予測    0.55\n",
              "dtype: float64"
            ]
          },
          "metadata": {
            "tags": []
          },
          "execution_count": 10
        }
      ]
    },
    {
      "cell_type": "code",
      "metadata": {
        "colab": {
          "base_uri": "https://localhost:8080/"
        },
        "id": "KpYnQYI6l8S_",
        "outputId": "ee1e1878-eb4e-4cdf-8ff9-261a59034418"
      },
      "source": [
        "marginal_state = joint_forecast_state.sum(axis=1)\n",
        "marginal_state"
      ],
      "execution_count": 11,
      "outputs": [
        {
          "output_type": "execute_result",
          "data": {
            "text/plain": [
              "好況    0.4\n",
              "不況    0.6\n",
              "dtype: float64"
            ]
          },
          "metadata": {
            "tags": []
          },
          "execution_count": 11
        }
      ]
    },
    {
      "cell_type": "code",
      "metadata": {
        "colab": {
          "base_uri": "https://localhost:8080/"
        },
        "id": "OkYO_LwXmBn-",
        "outputId": "d36b0da1-a3a9-4e12-aa61-1f1e8994ee75"
      },
      "source": [
        "# 予測が与えられた後の条件付き分布\n",
        "conditional_forecast = joint_forecast_state.div(marginal_forecast, axis=1)\n",
        "print(conditional_forecast)"
      ],
      "execution_count": 12,
      "outputs": [
        {
          "output_type": "stream",
          "text": [
            "      好況予測  不況予測\n",
            "好況     0.778     0.091\n",
            "不況     0.222     0.909\n"
          ],
          "name": "stdout"
        }
      ]
    },
    {
      "cell_type": "code",
      "metadata": {
        "id": "RDolCvBCmENO"
      },
      "source": [
        ""
      ],
      "execution_count": null,
      "outputs": []
    }
  ]
}