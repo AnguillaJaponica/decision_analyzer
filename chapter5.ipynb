{
  "nbformat": 4,
  "nbformat_minor": 0,
  "metadata": {
    "colab": {
      "name": "chapter5.ipynb",
      "provenance": [],
      "collapsed_sections": [],
      "authorship_tag": "ABX9TyO7i+w5UMygSVwtx9xqIn3+",
      "include_colab_link": true
    },
    "kernelspec": {
      "name": "python3",
      "display_name": "Python 3"
    },
    "language_info": {
      "name": "python"
    }
  },
  "cells": [
    {
      "cell_type": "markdown",
      "metadata": {
        "id": "view-in-github",
        "colab_type": "text"
      },
      "source": [
        "<a href=\"https://colab.research.google.com/github/AnguillaJaponica/decision_analyzer/blob/master/chapter5.ipynb\" target=\"_parent\"><img src=\"https://colab.research.google.com/assets/colab-badge.svg\" alt=\"Open In Colab\"/></a>"
      ]
    },
    {
      "cell_type": "code",
      "metadata": {
        "id": "Eg59Uf-0hrdF"
      },
      "source": [
        "# import libraries\n",
        "import numpy as np\n",
        "import pandas as pd\n",
        "# DataFrameの全角文字の出力をきれいにする。\n",
        "pd.set_option('display.unicode.east_asian_width', True)\n",
        "# 本文の数値と合わせるために、小数点以下3桁で丸める\n",
        "pd.set_option('display.precision', 3)"
      ],
      "execution_count": null,
      "outputs": []
    },
    {
      "cell_type": "code",
      "metadata": {
        "id": "mZ8zvwg5lGQ4"
      },
      "source": [
        "def self_info(prob):\n",
        "  return(-1 * np.log2(prob))"
      ],
      "execution_count": null,
      "outputs": []
    },
    {
      "cell_type": "code",
      "metadata": {
        "colab": {
          "base_uri": "https://localhost:8080/"
        },
        "id": "kgsUSRPkljLx",
        "outputId": "654e970a-dd2e-49bf-8474-56828b23e73b"
      },
      "source": [
        "i_6 = self_info(1/6)\n",
        "print(f'6の目が出たとわかった時の自己情報量: {i_6:.3g}')"
      ],
      "execution_count": null,
      "outputs": [
        {
          "output_type": "stream",
          "text": [
            "6の目が出たとわかった時の自己情報量: 2.58\n"
          ],
          "name": "stdout"
        }
      ]
    },
    {
      "cell_type": "code",
      "metadata": {
        "colab": {
          "base_uri": "https://localhost:8080/"
        },
        "id": "Mq9je8Q7l8Yg",
        "outputId": "c133ecb9-e490-4ae1-acc3-60230ac0d29e"
      },
      "source": [
        "i_3mul = self_info(1/3)\n",
        "i_even = self_info(1/2)\n",
        "print(f'3の倍数とわかった時の自己情報量: {i_3mul:.3g}')\n",
        "print(f'偶数とわかった時の自己情報量: {i_even:.3g}')\n",
        "print(f'情報を小出しにされた時の合計値: {i_3mul + i_even:.3g}')"
      ],
      "execution_count": null,
      "outputs": [
        {
          "output_type": "stream",
          "text": [
            "3の倍数とわかった時の自己情報量: 1.58\n",
            "偶数とわかった時の自己情報量: 1\n",
            "情報を小出しにされた時の合計値: 2.58\n"
          ],
          "name": "stdout"
        }
      ]
    },
    {
      "cell_type": "code",
      "metadata": {
        "id": "vjiEurUCm6it",
        "colab": {
          "base_uri": "https://localhost:8080/"
        },
        "outputId": "d2d8491e-9c48-47ed-b9bd-3ef77496781f"
      },
      "source": [
        "# 平均情報量と情報エントロピー\n",
        "\n",
        "# 好況と不況の確率\n",
        "prob_state = pd.Series([0.4, 0.6])\n",
        "prob_state.index = ['好況', '不況']\n",
        "prob_state"
      ],
      "execution_count": 9,
      "outputs": [
        {
          "output_type": "execute_result",
          "data": {
            "text/plain": [
              "好況    0.4\n",
              "不況    0.6\n",
              "dtype: float64"
            ]
          },
          "metadata": {
            "tags": []
          },
          "execution_count": 9
        }
      ]
    },
    {
      "cell_type": "code",
      "metadata": {
        "colab": {
          "base_uri": "https://localhost:8080/"
        },
        "id": "_tHqCho8qq_J",
        "outputId": "a250f2d0-d07e-4631-c498-c9cfa3aa3a0c"
      },
      "source": [
        "H = prob_state[0] * self_info(prob_state[0]) + prob_state[1] * self_info(prob_state[1])\n",
        "print(f'{H:.3g}')"
      ],
      "execution_count": 14,
      "outputs": [
        {
          "output_type": "stream",
          "text": [
            "0.971\n"
          ],
          "name": "stdout"
        }
      ]
    },
    {
      "cell_type": "code",
      "metadata": {
        "id": "GccSXRqvrD6m"
      },
      "source": [
        "# scipyを使ったエントロピーの計算\n",
        "# インポート\n",
        "from scipy.stats import entropy"
      ],
      "execution_count": 13,
      "outputs": []
    },
    {
      "cell_type": "code",
      "metadata": {
        "colab": {
          "base_uri": "https://localhost:8080/"
        },
        "id": "Kjy_pRKttvkF",
        "outputId": "80f365f0-3395-4dff-a1ff-e7dedb27259d"
      },
      "source": [
        "H_stats = entropy(prob_state, base=2)\n",
        "print(f'{H_stats:.3g}')"
      ],
      "execution_count": 15,
      "outputs": [
        {
          "output_type": "stream",
          "text": [
            "0.971\n"
          ],
          "name": "stdout"
        }
      ]
    },
    {
      "cell_type": "code",
      "metadata": {
        "colab": {
          "base_uri": "https://localhost:8080/"
        },
        "id": "DbcqxWDRwzag",
        "outputId": "4cf86fda-abea-48df-84a8-756ea4092f6f"
      },
      "source": [
        "# 確率の和が1になっていないと勝手に標準化される\n",
        "H_stats = entropy(pd.Series([0.2, 0.3]), base=2)\n",
        "print(f'{H_stats:.3g}')"
      ],
      "execution_count": 16,
      "outputs": [
        {
          "output_type": "stream",
          "text": [
            "0.971\n"
          ],
          "name": "stdout"
        }
      ]
    },
    {
      "cell_type": "code",
      "metadata": {
        "colab": {
          "base_uri": "https://localhost:8080/"
        },
        "id": "W8sq2n8KxDnF",
        "outputId": "8435b7df-13d8-4b4c-84c3-e497a197fdf6"
      },
      "source": [
        " # 11種類の確率分布を作る\n",
        "prob_df = pd.DataFrame({\n",
        "    'p1': np.arange(start=0, stop=1.1, step=0.1),\n",
        "    'p2': 1 - np.arange(start=0, stop=1.1, step=0.1)\n",
        "})\n",
        "\n",
        "print(prob_df)"
      ],
      "execution_count": 18,
      "outputs": [
        {
          "output_type": "stream",
          "text": [
            "     p1   p2\n",
            "0   0.0  1.0\n",
            "1   0.1  0.9\n",
            "2   0.2  0.8\n",
            "3   0.3  0.7\n",
            "4   0.4  0.6\n",
            "5   0.5  0.5\n",
            "6   0.6  0.4\n",
            "7   0.7  0.3\n",
            "8   0.8  0.2\n",
            "9   0.9  0.1\n",
            "10  1.0  0.0\n"
          ],
          "name": "stdout"
        }
      ]
    },
    {
      "cell_type": "code",
      "metadata": {
        "id": "MBq9cZwNx6yY"
      },
      "source": [
        "# エントロピーの列を作る\n",
        "prob_df['entropy'] = prob_df [['p1', 'p2']].apply(entropy, axis=1, base=2)\n"
      ],
      "execution_count": 19,
      "outputs": []
    },
    {
      "cell_type": "code",
      "metadata": {
        "colab": {
          "base_uri": "https://localhost:8080/"
        },
        "id": "V08J-Bz5ype0",
        "outputId": "b13f30b7-9dc2-4c39-8213-60faf16e9e11"
      },
      "source": [
        "print(prob_df)"
      ],
      "execution_count": 20,
      "outputs": [
        {
          "output_type": "stream",
          "text": [
            "     p1   p2  entropy\n",
            "0   0.0  1.0    0.000\n",
            "1   0.1  0.9    0.469\n",
            "2   0.2  0.8    0.722\n",
            "3   0.3  0.7    0.881\n",
            "4   0.4  0.6    0.971\n",
            "5   0.5  0.5    1.000\n",
            "6   0.6  0.4    0.971\n",
            "7   0.7  0.3    0.881\n",
            "8   0.8  0.2    0.722\n",
            "9   0.9  0.1    0.469\n",
            "10  1.0  0.0    0.000\n"
          ],
          "name": "stdout"
        }
      ]
    },
    {
      "cell_type": "code",
      "metadata": {
        "colab": {
          "base_uri": "https://localhost:8080/",
          "height": 296
        },
        "id": "8zIKVzx6y7aC",
        "outputId": "9391c9a5-c21c-4208-c824-8d4e8417c9d8"
      },
      "source": [
        "prob_df.plot(x='p1', y='entropy')"
      ],
      "execution_count": 21,
      "outputs": [
        {
          "output_type": "execute_result",
          "data": {
            "text/plain": [
              "<matplotlib.axes._subplots.AxesSubplot at 0x7fd08f650790>"
            ]
          },
          "metadata": {
            "tags": []
          },
          "execution_count": 21
        },
        {
          "output_type": "display_data",
          "data": {
            "image/png": "[encoded data removed]",
            "text/plain": [
              "<Figure size 432x288 with 1 Axes>"
            ]
          },
          "metadata": {
            "tags": [],
            "needs_background": "light"
          }
        }
      ]
    },
    {
      "cell_type": "code",
      "metadata": {
        "colab": {
          "base_uri": "https://localhost:8080/"
        },
        "id": "YvlZG-sZ03Dc",
        "outputId": "18aac52f-ed61-4d0a-b917-dc020ee851f8"
      },
      "source": [
        "joint_forecast_state = pd.DataFrame({\n",
        "    '好況予測': [0.35, 0.1],\n",
        "    '不況予測': [0.05, 0.5]\n",
        "})\n",
        "joint_forecast_state.index = ['好況', '不況']\n",
        "print(joint_forecast_state)"
      ],
      "execution_count": 22,
      "outputs": [
        {
          "output_type": "stream",
          "text": [
            "      好況予測  不況予測\n",
            "好況      0.35      0.05\n",
            "不況      0.10      0.50\n"
          ],
          "name": "stdout"
        }
      ]
    },
    {
      "cell_type": "code",
      "metadata": {
        "colab": {
          "base_uri": "https://localhost:8080/"
        },
        "id": "ulEedOGVQxeB",
        "outputId": "cc709183-5d7f-4233-ca8f-3df5e57e32c7"
      },
      "source": [
        "marginal_forecast = joint_forecast_state.sum(axis=0)\n",
        "marginal_forecast"
      ],
      "execution_count": 24,
      "outputs": [
        {
          "output_type": "execute_result",
          "data": {
            "text/plain": [
              "好況予測    0.45\n",
              "不況予測    0.55\n",
              "dtype: float64"
            ]
          },
          "metadata": {
            "tags": []
          },
          "execution_count": 24
        }
      ]
    },
    {
      "cell_type": "code",
      "metadata": {
        "colab": {
          "base_uri": "https://localhost:8080/"
        },
        "id": "CLh6evuFQ43r",
        "outputId": "82c338a1-ae9b-4208-ee7c-de1c689464fe"
      },
      "source": [
        "marginal_state = joint_forecast_state.sum(axis=1)\n",
        "marginal_state"
      ],
      "execution_count": 26,
      "outputs": [
        {
          "output_type": "execute_result",
          "data": {
            "text/plain": [
              "好況    0.4\n",
              "不況    0.6\n",
              "dtype: float64"
            ]
          },
          "metadata": {
            "tags": []
          },
          "execution_count": 26
        }
      ]
    },
    {
      "cell_type": "code",
      "metadata": {
        "colab": {
          "base_uri": "https://localhost:8080/"
        },
        "id": "vJTD6HyORFfZ",
        "outputId": "5be82789-6faf-4363-f312-6e403e711c43"
      },
      "source": [
        "# 予測が与えられた後の条件付き分布\n",
        "conditional_forecast = joint_forecast_state.div(marginal_forecast, axis=1)\n",
        "print(conditional_forecast)"
      ],
      "execution_count": 28,
      "outputs": [
        {
          "output_type": "stream",
          "text": [
            "      好況予測  不況予測\n",
            "好況     0.778     0.091\n",
            "不況     0.222     0.909\n"
          ],
          "name": "stdout"
        }
      ]
    },
    {
      "cell_type": "code",
      "metadata": {
        "colab": {
          "base_uri": "https://localhost:8080/"
        },
        "id": "tCfc1hpLRjLz",
        "outputId": "da79ec6f-9d44-4150-f9b3-e1d35cab944c"
      },
      "source": [
        "# 予測結果ごとの不確実性\n",
        "H_by_f = conditional_forecast.apply(entropy, axis=0, base=2)\n",
        "H_by_f"
      ],
      "execution_count": 30,
      "outputs": [
        {
          "output_type": "execute_result",
          "data": {
            "text/plain": [
              "好況予測    0.764\n",
              "不況予測    0.439\n",
              "dtype: float64"
            ]
          },
          "metadata": {
            "tags": []
          },
          "execution_count": 30
        }
      ]
    },
    {
      "cell_type": "code",
      "metadata": {
        "colab": {
          "base_uri": "https://localhost:8080/"
        },
        "id": "3mZNhJJ2R9EI",
        "outputId": "294d3b31-251a-4c86-a7e8-fc5d28aea291"
      },
      "source": [
        "H_conditional = H_by_f.mul(marginal_forecast).sum()\n",
        "print(f'{H_conditional:.3g}')"
      ],
      "execution_count": 32,
      "outputs": [
        {
          "output_type": "stream",
          "text": [
            "0.586\n"
          ],
          "name": "stdout"
        }
      ]
    }
  ]
}