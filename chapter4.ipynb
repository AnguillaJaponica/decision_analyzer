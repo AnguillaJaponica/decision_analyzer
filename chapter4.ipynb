{
  "nbformat": 4,
  "nbformat_minor": 0,
  "metadata": {
    "colab": {
      "name": "chapter4.ipynb",
      "provenance": [],
      "collapsed_sections": [],
      "authorship_tag": "ABX9TyNpJRE2uk7P4x2Kcy3C4q3I",
      "include_colab_link": true
    },
    "kernelspec": {
      "name": "python3",
      "display_name": "Python 3"
    },
    "language_info": {
      "name": "python"
    }
  },
  "cells": [
    {
      "cell_type": "markdown",
      "metadata": {
        "id": "view-in-github",
        "colab_type": "text"
      },
      "source": [
        "<a href=\"https://colab.research.google.com/github/AnguillaJaponica/decision_analyzer/blob/master/chapter4.ipynb\" target=\"_parent\"><img src=\"https://colab.research.google.com/assets/colab-badge.svg\" alt=\"Open In Colab\"/></a>"
      ]
    },
    {
      "cell_type": "code",
      "metadata": {
        "id": "Up3iE9rS4Mtx"
      },
      "source": [
        "# import libraries\n",
        "import numpy as np\n",
        "import pandas as pd\n",
        "# DataFrameの全角文字の出力をきれいにする。\n",
        "pd.set_option('display.unicode.east_asian_width', True)"
      ],
      "execution_count": 1,
      "outputs": []
    },
    {
      "cell_type": "code",
      "metadata": {
        "colab": {
          "base_uri": "https://localhost:8080/"
        },
        "id": "iJRhYYai6fO9",
        "outputId": "7e8a7935-8c3e-4711-9b1a-5808f864cc41"
      },
      "source": [
        "payoff = pd.DataFrame({\n",
        "    '0台': [-100, -100],\n",
        "    '1台': [300, 300],\n",
        "    '２台': [700, -300]\n",
        "})\n",
        "payoff.index = ['好況', '不況']\n",
        "print(payoff)"
      ],
      "execution_count": 8,
      "outputs": [
        {
          "output_type": "stream",
          "text": [
            "      0台  1台  ２台\n",
            "好況 -100  300   700\n",
            "不況 -100  300  -300\n"
          ],
          "name": "stdout"
        }
      ]
    },
    {
      "cell_type": "code",
      "metadata": {
        "colab": {
          "base_uri": "https://localhost:8080/"
        },
        "id": "1yJGGU5n7xfE",
        "outputId": "5c8d0339-d4c7-40e7-84af-523f24d8eaab"
      },
      "source": [
        "# 好況と不況の確率\n",
        "prob_state = pd.Series([0.4, 0.6])\n",
        "prob_state.index = ['好況', '不況']\n",
        "prob_state"
      ],
      "execution_count": 11,
      "outputs": [
        {
          "output_type": "execute_result",
          "data": {
            "text/plain": [
              "好況    0.4\n",
              "不況    0.6\n",
              "dtype: float64"
            ]
          },
          "metadata": {
            "tags": []
          },
          "execution_count": 11
        }
      ]
    },
    {
      "cell_type": "code",
      "metadata": {
        "colab": {
          "base_uri": "https://localhost:8080/"
        },
        "id": "8814xZEB8B10",
        "outputId": "7a9fbb96-8c6f-4d36-cba4-f474a93c0364"
      },
      "source": [
        "# 利得*確率\n",
        "print(payoff.mul(prob_state, axis=0))"
      ],
      "execution_count": 12,
      "outputs": [
        {
          "output_type": "stream",
          "text": [
            "       0台    1台   ２台\n",
            "好況 -40.0  120.0  280.0\n",
            "不況 -60.0  180.0 -180.0\n"
          ],
          "name": "stdout"
        }
      ]
    },
    {
      "cell_type": "code",
      "metadata": {
        "colab": {
          "base_uri": "https://localhost:8080/"
        },
        "id": "Yt_s_bB5Diy7",
        "outputId": "a45a59ff-6c86-4b10-bda1-d39884f0abf6"
      },
      "source": [
        "emv = payoff.mul(prob_state, axis=0).sum()\n",
        "emv"
      ],
      "execution_count": 14,
      "outputs": [
        {
          "output_type": "execute_result",
          "data": {
            "text/plain": [
              "0台    -100.0\n",
              "1台     300.0\n",
              "２台    100.0\n",
              "dtype: float64"
            ]
          },
          "metadata": {
            "tags": []
          },
          "execution_count": 14
        }
      ]
    },
    {
      "cell_type": "code",
      "metadata": {
        "id": "tcQIRU2hD1qh"
      },
      "source": [
        "# 最大値を取るインデックスを取得する。最大値が複数ある場合は全て取得する。\n",
        "def argmax_list(series):\n",
        "  return(list(series[series == series.max()].index))"
      ],
      "execution_count": 15,
      "outputs": []
    },
    {
      "cell_type": "code",
      "metadata": {
        "colab": {
          "base_uri": "https://localhost:8080/"
        },
        "id": "TBhPN848D69e",
        "outputId": "e0e8f397-b54b-4078-e382-68a93abecf54"
      },
      "source": [
        "argmax_list(emv)"
      ],
      "execution_count": 16,
      "outputs": [
        {
          "output_type": "execute_result",
          "data": {
            "text/plain": [
              "['1台']"
            ]
          },
          "metadata": {
            "tags": []
          },
          "execution_count": 16
        }
      ]
    },
    {
      "cell_type": "code",
      "metadata": {
        "id": "UZPc1VnwECJS"
      },
      "source": [
        "# 期待金額最大化に基づく意思決定を行う関数\n",
        "def max_emv(probs, payoff_table):\n",
        "  emv = payoff_table.mul(probs, axis=0).sum()\n",
        "  max_emv = emv.max()\n",
        "  a_star = argmax_list(emv)\n",
        "  return(pd.Series([a_star, max_emv], index=['選択肢', '期待金額']))"
      ],
      "execution_count": 20,
      "outputs": []
    },
    {
      "cell_type": "code",
      "metadata": {
        "colab": {
          "base_uri": "https://localhost:8080/"
        },
        "id": "of2UhRjaHh5a",
        "outputId": "45737151-6be4-4119-84e1-5a7e6670dc8a"
      },
      "source": [
        "  max_emv(prob_state, payoff)"
      ],
      "execution_count": 21,
      "outputs": [
        {
          "output_type": "execute_result",
          "data": {
            "text/plain": [
              "選択肢      [1台]\n",
              "期待金額      300\n",
              "dtype: object"
            ]
          },
          "metadata": {
            "tags": []
          },
          "execution_count": 21
        }
      ]
    },
    {
      "cell_type": "code",
      "metadata": {
        "colab": {
          "base_uri": "https://localhost:8080/"
        },
        "id": "6xtsImXDe_gf",
        "outputId": "48111e3e-547e-4d9a-b5ac-95e0f71660c0"
      },
      "source": [
        "# 乱数のseedを指定する\n",
        "np.random.seed(1)\n",
        "print(np.random.choice([700, -300], size = 10, p = [0.4, 0.6]))\n",
        "np.random.seed(1)\n",
        "print(np.random.choice([700, -300], size = 10, p = [0.4, 0.6]))"
      ],
      "execution_count": 23,
      "outputs": [
        {
          "output_type": "stream",
          "text": [
            "[-300 -300  700  700  700  700  700  700  700 -300]\n",
            "[-300 -300  700  700  700  700  700  700  700 -300]\n"
          ],
          "name": "stdout"
        }
      ]
    },
    {
      "cell_type": "code",
      "metadata": {
        "id": "oOh2I1a_fZu0"
      },
      "source": [
        "# 乱数500万個の生成\n",
        "np.random.seed(1)\n",
        "simulation = np.random.choice([700, -300], size = 5000000, p = [0.4, 0.6])"
      ],
      "execution_count": 24,
      "outputs": []
    },
    {
      "cell_type": "code",
      "metadata": {
        "colab": {
          "base_uri": "https://localhost:8080/"
        },
        "id": "n3iCo0e8fnFs",
        "outputId": "8dd9c85d-58cb-4f7d-9e63-df388bdc8f2c"
      },
      "source": [
        "print('期待値: ', np.sum(np.array([700, -300]) * np.array([0.4, 0.6])))\n",
        "print('平均値: ', simulation.mean().round(1))"
      ],
      "execution_count": 26,
      "outputs": [
        {
          "output_type": "stream",
          "text": [
            "期待値:  100.0\n",
            "平均値:  100.0\n"
          ],
          "name": "stdout"
        }
      ]
    }
  ]
}