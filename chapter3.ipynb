{
  "nbformat": 4,
  "nbformat_minor": 0,
  "metadata": {
    "colab": {
      "name": "chapter3.ipynb",
      "provenance": [],
      "collapsed_sections": [],
      "authorship_tag": "ABX9TyOWGCBJS28vZWB0WpFD2pOn",
      "include_colab_link": true
    },
    "kernelspec": {
      "name": "python3",
      "display_name": "Python 3"
    },
    "language_info": {
      "name": "python"
    }
  },
  "cells": [
    {
      "cell_type": "markdown",
      "metadata": {
        "id": "view-in-github",
        "colab_type": "text"
      },
      "source": [
        "<a href=\"https://colab.research.google.com/github/AnguillaJaponica/decision_analyzer/blob/master/chapter3.ipynb\" target=\"_parent\"><img src=\"https://colab.research.google.com/assets/colab-badge.svg\" alt=\"Open In Colab\"/></a>"
      ]
    },
    {
      "cell_type": "code",
      "metadata": {
        "id": "8dgPSVbmeDS5"
      },
      "source": [
        "# import libraries\n",
        "import numpy as np\n",
        "import pandas as pd\n",
        "# DataFrameの全角文字の出力をきれいにする。\n",
        "pd.set_option('display.unicode.east_asian_width', True)"
      ],
      "execution_count": 1,
      "outputs": []
    },
    {
      "cell_type": "code",
      "metadata": {
        "id": "TjPofJnwfNoq"
      },
      "source": [
        "# 利得を計算する際のパラメータ\n",
        "fixed_cost = 100\n",
        "run_cost = 600\n",
        "sales_price = 0.2\n",
        "\n",
        "machine_ability = 5000\n",
        "demand_boom = 10000\n",
        "demand_slump = 5000"
      ],
      "execution_count": 2,
      "outputs": []
    },
    {
      "cell_type": "code",
      "metadata": {
        "colab": {
          "base_uri": "https://localhost:8080/"
        },
        "id": "ElaTnRj3fs32",
        "outputId": "5924ba7e-38d7-46e5-86b2-286b7bce76c7"
      },
      "source": [
        "# 出荷される製品の個数\n",
        "num_product_df = pd.DataFrame({\n",
        "    '0台': [0, 0],\n",
        "    '1台': [min([machine_ability, demand_boom]),\n",
        "           min([machine_ability, demand_slump])],\n",
        "    '2台': [min([machine_ability * 2, demand_boom]),\n",
        "           min([machine_ability * 2, demand_slump])]\n",
        "})\n",
        "num_product_df.index = ['好況', '不況']\n",
        "print(num_product_df)"
      ],
      "execution_count": 3,
      "outputs": [
        {
          "output_type": "stream",
          "text": [
            "      0台   1台    2台\n",
            "好況    0  5000  10000\n",
            "不況    0  5000   5000\n"
          ],
          "name": "stdout"
        }
      ]
    },
    {
      "cell_type": "code",
      "metadata": {
        "colab": {
          "base_uri": "https://localhost:8080/"
        },
        "id": "fDFbFwHDhI76",
        "outputId": "e3d39e2f-d4a4-4327-fab3-a80c2184a27d"
      },
      "source": [
        "# 売上行列\n",
        "sales_df = num_product_df * sales_price\n",
        "print(sales_df)"
      ],
      "execution_count": 4,
      "outputs": [
        {
          "output_type": "stream",
          "text": [
            "      0台     1台     2台\n",
            "好況  0.0  1000.0  2000.0\n",
            "不況  0.0  1000.0  1000.0\n"
          ],
          "name": "stdout"
        }
      ]
    },
    {
      "cell_type": "code",
      "metadata": {
        "colab": {
          "base_uri": "https://localhost:8080/"
        },
        "id": "v1uGnhZdhqiX",
        "outputId": "252e8403-f039-47c9-9bf5-fff1e3192d4e"
      },
      "source": [
        "# 製造コスト\n",
        "run_cost_df = pd.DataFrame({\n",
        "    '0台': np.repeat(fixed_cost, 2),\n",
        "    '1台': np.repeat(fixed_cost + run_cost, 2),\n",
        "    '2台': np.repeat(fixed_cost + run_cost * 2, 2)\n",
        "})\n",
        "run_cost_df.index =  ['好況', '不況']\n",
        "print(run_cost_df)"
      ],
      "execution_count": 5,
      "outputs": [
        {
          "output_type": "stream",
          "text": [
            "      0台  1台   2台\n",
            "好況  100  700  1300\n",
            "不況  100  700  1300\n"
          ],
          "name": "stdout"
        }
      ]
    },
    {
      "cell_type": "code",
      "metadata": {
        "colab": {
          "base_uri": "https://localhost:8080/"
        },
        "id": "a424kdOYi3gz",
        "outputId": "1f90f085-026f-486d-b1a3-1b7681bc4910"
      },
      "source": [
        "# 利得行列\n",
        "paypff_df = sales_df - run_cost_df\n",
        "print(paypff_df)"
      ],
      "execution_count": 6,
      "outputs": [
        {
          "output_type": "stream",
          "text": [
            "        0台    1台    2台\n",
            "好況 -100.0  300.0  700.0\n",
            "不況 -100.0  300.0 -300.0\n"
          ],
          "name": "stdout"
        }
      ]
    },
    {
      "cell_type": "code",
      "metadata": {
        "id": "YuVEBOI-jT3F"
      },
      "source": [
        "# 利得行列を一発で作る関数\n",
        "\n",
        "def calc_payoff_table(fixed_cost, run_cost, sales_price, machine_ability, demand_boom ,demand_slump):\n",
        "  # 出荷される製品の個数\n",
        "  num_product_df = pd.DataFrame({\n",
        "      '0台': [0, 0],\n",
        "      '1台': [min([machine_ability, demand_boom]),\n",
        "            min([machine_ability, demand_slump])],\n",
        "      '2台': [min([machine_ability * 2, demand_boom]),\n",
        "            min([machine_ability * 2, demand_slump])]\n",
        "  })\n",
        "  sales_df = num_product_df * sales_price\n",
        "  # 製造コスト\n",
        "  run_cost_df = pd.DataFrame({\n",
        "      '0台': np.repeat(fixed_cost, 2),\n",
        "      '1台': np.repeat(fixed_cost + run_cost, 2),\n",
        "      '2台': np.repeat(fixed_cost + run_cost * 2, 2)\n",
        "  })\n",
        "  # 利得行列\n",
        "  paypff_df = sales_df - run_cost_df\n",
        "  paypff_df.index =  ['好況', '不況']\n",
        "  # 結果を返す\n",
        "  return(paypff_df)\n"
      ],
      "execution_count": 7,
      "outputs": []
    },
    {
      "cell_type": "code",
      "metadata": {
        "id": "tRFE6vEhlL3m"
      },
      "source": [
        "payoff = calc_payoff_table(fixed_cost = 100, run_cost = 600, sales_price = 0.2, machine_ability = 5000, demand_boom = 10000 ,demand_slump = 5000)"
      ],
      "execution_count": 8,
      "outputs": []
    },
    {
      "cell_type": "code",
      "metadata": {
        "colab": {
          "base_uri": "https://localhost:8080/"
        },
        "id": "Tv-wn7Cll-mt",
        "outputId": "7e8fc457-27a2-4b28-e2bd-364e12331124"
      },
      "source": [
        "# 選択肢ごとの最大利得\n",
        "payoff.max()"
      ],
      "execution_count": 9,
      "outputs": [
        {
          "output_type": "execute_result",
          "data": {
            "text/plain": [
              "0台   -100.0\n",
              "1台    300.0\n",
              "2台    700.0\n",
              "dtype: float64"
            ]
          },
          "metadata": {
            "tags": []
          },
          "execution_count": 9
        }
      ]
    },
    {
      "cell_type": "code",
      "metadata": {
        "colab": {
          "base_uri": "https://localhost:8080/"
        },
        "id": "Oj4MvLSvmSUc",
        "outputId": "cbc91625-c989-443a-cdb3-a6fc0314bb63"
      },
      "source": [
        "payoff.max().max()"
      ],
      "execution_count": 22,
      "outputs": [
        {
          "output_type": "execute_result",
          "data": {
            "text/plain": [
              "700.0"
            ]
          },
          "metadata": {
            "tags": []
          },
          "execution_count": 22
        }
      ]
    },
    {
      "cell_type": "code",
      "metadata": {
        "colab": {
          "base_uri": "https://localhost:8080/"
        },
        "id": "HRFsSflI7Z9z",
        "outputId": "3b712d4e-eeb5-4841-d043-66be9b30a0c6"
      },
      "source": [
        "payoff.max() == payoff.max().max()"
      ],
      "execution_count": 10,
      "outputs": [
        {
          "output_type": "execute_result",
          "data": {
            "text/plain": [
              "0台    False\n",
              "1台    False\n",
              "2台     True\n",
              "dtype: bool"
            ]
          },
          "metadata": {
            "tags": []
          },
          "execution_count": 10
        }
      ]
    },
    {
      "cell_type": "code",
      "metadata": {
        "colab": {
          "base_uri": "https://localhost:8080/"
        },
        "id": "ipJjNTvU9Y6I",
        "outputId": "fe177e78-4529-42bb-e81e-e63c711680bd"
      },
      "source": [
        "payoff.max()[payoff.max() == payoff.max().max()]"
      ],
      "execution_count": 11,
      "outputs": [
        {
          "output_type": "execute_result",
          "data": {
            "text/plain": [
              "2台    700.0\n",
              "dtype: float64"
            ]
          },
          "metadata": {
            "tags": []
          },
          "execution_count": 11
        }
      ]
    },
    {
      "cell_type": "code",
      "metadata": {
        "colab": {
          "base_uri": "https://localhost:8080/"
        },
        "id": "thE9Ye6b9gi9",
        "outputId": "dd801fa2-0e79-46ca-bee1-53c0f493ca49"
      },
      "source": [
        "list(payoff.max()[payoff.max() == payoff.max().max()].index)"
      ],
      "execution_count": 12,
      "outputs": [
        {
          "output_type": "execute_result",
          "data": {
            "text/plain": [
              "['2台']"
            ]
          },
          "metadata": {
            "tags": []
          },
          "execution_count": 12
        }
      ]
    },
    {
      "cell_type": "code",
      "metadata": {
        "id": "FgJFAPUC91tc"
      },
      "source": [
        "# 最大値を取るインデックスを取得する。最大値が複数ある場合は全て取得する。\n",
        "def argmax_list(series):\n",
        "  return(list(series[series == series.max()].index))\n",
        "\n",
        "# 最小値を取るインデックスを取得する。最小値が複数ある場合は全て取得する。\n",
        "def argmin_list(series):\n",
        "  return(list(series[series == series.min()].index))"
      ],
      "execution_count": 17,
      "outputs": []
    },
    {
      "cell_type": "code",
      "metadata": {
        "colab": {
          "base_uri": "https://localhost:8080/"
        },
        "id": "InC0vf0g_Fl9",
        "outputId": "2a1386b3-fdb0-4564-a944-3805fc573aff"
      },
      "source": [
        "print('Maximax: ', argmax_list(payoff.max()))"
      ],
      "execution_count": 16,
      "outputs": [
        {
          "output_type": "stream",
          "text": [
            "Maximax:  ['2台']\n"
          ],
          "name": "stdout"
        }
      ]
    },
    {
      "cell_type": "code",
      "metadata": {
        "colab": {
          "base_uri": "https://localhost:8080/"
        },
        "id": "ZFzcddXl_nKh",
        "outputId": "635f3e14-6cd7-4738-da24-ca6c5835054f"
      },
      "source": [
        "# 選択肢ごとの最小利得\n",
        "payoff.min()"
      ],
      "execution_count": 18,
      "outputs": [
        {
          "output_type": "execute_result",
          "data": {
            "text/plain": [
              "0台   -100.0\n",
              "1台    300.0\n",
              "2台   -300.0\n",
              "dtype: float64"
            ]
          },
          "metadata": {
            "tags": []
          },
          "execution_count": 18
        }
      ]
    },
    {
      "cell_type": "code",
      "metadata": {
        "colab": {
          "base_uri": "https://localhost:8080/"
        },
        "id": "NjV27ALr_7l-",
        "outputId": "8f7a21f3-468f-4ed9-f609-5d80b6dab845"
      },
      "source": [
        "print('Maximin: ', argmax_list(payoff.min()))"
      ],
      "execution_count": 19,
      "outputs": [
        {
          "output_type": "stream",
          "text": [
            "Maximin:  ['1台']\n"
          ],
          "name": "stdout"
        }
      ]
    },
    {
      "cell_type": "code",
      "metadata": {
        "colab": {
          "base_uri": "https://localhost:8080/"
        },
        "id": "U0s5gkU6Ap_t",
        "outputId": "63100b3a-d8b8-4898-b74a-68344de53ecf"
      },
      "source": [
        "# ハーヴィッツの基準\n",
        "# alpha=0.6の場合\n",
        "hurwicz = payoff.max() * 0.6 + payoff.min() * 0.4\n",
        "hurwicz"
      ],
      "execution_count": 20,
      "outputs": [
        {
          "output_type": "execute_result",
          "data": {
            "text/plain": [
              "0台   -100.0\n",
              "1台    300.0\n",
              "2台    300.0\n",
              "dtype: float64"
            ]
          },
          "metadata": {
            "tags": []
          },
          "execution_count": 20
        }
      ]
    },
    {
      "cell_type": "code",
      "metadata": {
        "colab": {
          "base_uri": "https://localhost:8080/"
        },
        "id": "_Z6VjYgFBI2T",
        "outputId": "0af5744a-e919-4196-f231-49ce9305b2ad"
      },
      "source": [
        "argmax_list(hurwicz)"
      ],
      "execution_count": 21,
      "outputs": [
        {
          "output_type": "execute_result",
          "data": {
            "text/plain": [
              "['1台', '2台']"
            ]
          },
          "metadata": {
            "tags": []
          },
          "execution_count": 21
        }
      ]
    },
    {
      "cell_type": "code",
      "metadata": {
        "id": "rvYinRgABSVM"
      },
      "source": [
        "# ハーヴィッツの基準による決定を行う関数\n",
        "def hurwicz(payoff_table, alpha):\n",
        "  hurwicz = payoff_table.max() * alpha + payoff_table.min() * (1 - alpha)\n",
        "  return argmax_list(hurwicz)"
      ],
      "execution_count": 22,
      "outputs": []
    },
    {
      "cell_type": "code",
      "metadata": {
        "colab": {
          "base_uri": "https://localhost:8080/"
        },
        "id": "Lj6gSaVhBtlO",
        "outputId": "b5c41479-c512-4b78-867c-a5409ef808bc"
      },
      "source": [
        "print('Hurwicz: ', hurwicz(payoff, 0.6))"
      ],
      "execution_count": 26,
      "outputs": [
        {
          "output_type": "stream",
          "text": [
            "Hurwicz:  ['1台', '2台']\n"
          ],
          "name": "stdout"
        }
      ]
    },
    {
      "cell_type": "code",
      "metadata": {
        "colab": {
          "base_uri": "https://localhost:8080/"
        },
        "id": "hx9JXZZxCAaX",
        "outputId": "b3e52dd0-1dcf-4aa4-f9ab-1e922c067025"
      },
      "source": [
        "print('Hurwicz: ', hurwicz(payoff, 0.7))"
      ],
      "execution_count": 27,
      "outputs": [
        {
          "output_type": "stream",
          "text": [
            "Hurwicz:  ['2台']\n"
          ],
          "name": "stdout"
        }
      ]
    },
    {
      "cell_type": "code",
      "metadata": {
        "colab": {
          "base_uri": "https://localhost:8080/"
        },
        "id": "J0eFjq_kCE1w",
        "outputId": "9742fb0d-9fc8-408a-ca11-5e240a270e36"
      },
      "source": [
        "print('Hurwicz: ', hurwicz(payoff, 0.5))"
      ],
      "execution_count": 28,
      "outputs": [
        {
          "output_type": "stream",
          "text": [
            "Hurwicz:  ['1台']\n"
          ],
          "name": "stdout"
        }
      ]
    },
    {
      "cell_type": "code",
      "metadata": {
        "colab": {
          "base_uri": "https://localhost:8080/",
          "height": 111
        },
        "id": "4xU5tFieE47P",
        "outputId": "f2f7231d-8915-4f5d-8bf6-7ecfd8074e07"
      },
      "source": [
        "payoff"
      ],
      "execution_count": 57,
      "outputs": [
        {
          "output_type": "execute_result",
          "data": {
            "text/html": [
              "<div>\n",
              "<style scoped>\n",
              "    .dataframe tbody tr th:only-of-type {\n",
              "        vertical-align: middle;\n",
              "    }\n",
              "\n",
              "    .dataframe tbody tr th {\n",
              "        vertical-align: top;\n",
              "    }\n",
              "\n",
              "    .dataframe thead th {\n",
              "        text-align: right;\n",
              "    }\n",
              "</style>\n",
              "<table border=\"1\" class=\"dataframe\">\n",
              "  <thead>\n",
              "    <tr style=\"text-align: right;\">\n",
              "      <th></th>\n",
              "      <th>0台</th>\n",
              "      <th>1台</th>\n",
              "      <th>2台</th>\n",
              "    </tr>\n",
              "  </thead>\n",
              "  <tbody>\n",
              "    <tr>\n",
              "      <th>好況</th>\n",
              "      <td>-100.0</td>\n",
              "      <td>300.0</td>\n",
              "      <td>700.0</td>\n",
              "    </tr>\n",
              "    <tr>\n",
              "      <th>不況</th>\n",
              "      <td>-100.0</td>\n",
              "      <td>300.0</td>\n",
              "      <td>-300.0</td>\n",
              "    </tr>\n",
              "  </tbody>\n",
              "</table>\n",
              "</div>"
            ],
            "text/plain": [
              "        0台    1台    2台\n",
              "好況 -100.0  300.0  700.0\n",
              "不況 -100.0  300.0 -300.0"
            ]
          },
          "metadata": {
            "tags": []
          },
          "execution_count": 57
        }
      ]
    },
    {
      "cell_type": "code",
      "metadata": {
        "colab": {
          "base_uri": "https://localhost:8080/"
        },
        "id": "LmFQ_3OdC9qD",
        "outputId": "be5e6591-ffd8-4d85-9a15-33f9ded71c41"
      },
      "source": [
        "# 自然の状態ごとに見た最大利得\n",
        "best_df = pd.concat([payoff.max(axis=1)] * payoff.shape[1], axis = 1)\n",
        "best_df.columns = payoff.columns\n",
        "print(best_df)"
      ],
      "execution_count": 60,
      "outputs": [
        {
          "output_type": "stream",
          "text": [
            "        0台    1台    2台\n",
            "好況  700.0  700.0  700.0\n",
            "不況  300.0  300.0  300.0\n"
          ],
          "name": "stdout"
        }
      ]
    },
    {
      "cell_type": "code",
      "metadata": {
        "colab": {
          "base_uri": "https://localhost:8080/"
        },
        "id": "piO6WluQFzHj",
        "outputId": "741c2255-6a96-40ab-ba7e-8029ce1b5702"
      },
      "source": [
        "# リグレット\n",
        "regret_df = best_df - payoff\n",
        "print(regret_df)"
      ],
      "execution_count": 61,
      "outputs": [
        {
          "output_type": "stream",
          "text": [
            "        0台    1台    2台\n",
            "好況  800.0  400.0    0.0\n",
            "不況  400.0    0.0  600.0\n"
          ],
          "name": "stdout"
        }
      ]
    },
    {
      "cell_type": "code",
      "metadata": {
        "colab": {
          "base_uri": "https://localhost:8080/"
        },
        "id": "WHjjWig2Gvml",
        "outputId": "8160f762-d3ab-49a0-c50e-c5221f49c74f"
      },
      "source": [
        "# 各々の選択肢におけるリグレットの最大値\n",
        "regret_df.max()"
      ],
      "execution_count": 62,
      "outputs": [
        {
          "output_type": "execute_result",
          "data": {
            "text/plain": [
              "0台    800.0\n",
              "1台    400.0\n",
              "2台    600.0\n",
              "dtype: float64"
            ]
          },
          "metadata": {
            "tags": []
          },
          "execution_count": 62
        }
      ]
    },
    {
      "cell_type": "code",
      "metadata": {
        "colab": {
          "base_uri": "https://localhost:8080/"
        },
        "id": "ZOBUvjYVG5QF",
        "outputId": "a5f52261-e02b-43ed-9024-25be83f6ab50"
      },
      "source": [
        "# ミニマックスリグレットは、リグレットの最大値が最小になるような選択肢を採択する\n",
        "argmin_list(regret_df.max())"
      ],
      "execution_count": 63,
      "outputs": [
        {
          "output_type": "execute_result",
          "data": {
            "text/plain": [
              "['1台']"
            ]
          },
          "metadata": {
            "tags": []
          },
          "execution_count": 63
        }
      ]
    },
    {
      "cell_type": "code",
      "metadata": {
        "id": "fxHToA-bHHgb"
      },
      "source": [
        "# ミニマックスリグレット基準による決定を行う関数\n",
        "def minimax_regret(payoff_table):\n",
        "  best_df = pd.concat([payoff_table.max(axis=1)] * payoff_table.shape[1], axis = 1)\n",
        "  best_df.columns = payoff_table.columns\n",
        "  regret_df = best_df - payoff\n",
        "  return argmin_list(regret_df.max())"
      ],
      "execution_count": 64,
      "outputs": []
    },
    {
      "cell_type": "code",
      "metadata": {
        "colab": {
          "base_uri": "https://localhost:8080/"
        },
        "id": "23DnAt53Hbx4",
        "outputId": "d477d24b-a1c6-497b-aed8-817b1899ff2a"
      },
      "source": [
        "minimax_regret(payoff)"
      ],
      "execution_count": 65,
      "outputs": [
        {
          "output_type": "execute_result",
          "data": {
            "text/plain": [
              "['1台']"
            ]
          },
          "metadata": {
            "tags": []
          },
          "execution_count": 65
        }
      ]
    },
    {
      "cell_type": "code",
      "metadata": {
        "colab": {
          "base_uri": "https://localhost:8080/"
        },
        "id": "3p3JcBr2IMEQ",
        "outputId": "9079199d-bc86-4ca1-cd60-479c94289855"
      },
      "source": [
        "# 選択肢ごとの平均利得\n",
        "payoff.mean()"
      ],
      "execution_count": 66,
      "outputs": [
        {
          "output_type": "execute_result",
          "data": {
            "text/plain": [
              "0台   -100.0\n",
              "1台    300.0\n",
              "2台    200.0\n",
              "dtype: float64"
            ]
          },
          "metadata": {
            "tags": []
          },
          "execution_count": 66
        }
      ]
    },
    {
      "cell_type": "code",
      "metadata": {
        "colab": {
          "base_uri": "https://localhost:8080/"
        },
        "id": "27cVo6MPIROu",
        "outputId": "6bf7a245-b645-4619-cd53-f5c1275c1c03"
      },
      "source": [
        "print('Laplace: ', argmax_list(payoff.mean()))"
      ],
      "execution_count": 67,
      "outputs": [
        {
          "output_type": "stream",
          "text": [
            "Laplace:  ['1台']\n"
          ],
          "name": "stdout"
        }
      ]
    },
    {
      "cell_type": "code",
      "metadata": {
        "colab": {
          "base_uri": "https://localhost:8080/"
        },
        "id": "FKX-4oO_23oX",
        "outputId": "85e575ac-434a-43fe-94dd-b05bee6e0157"
      },
      "source": [
        "# 感度分析\n",
        "# 機械1台の稼働コストを増やした\n",
        "payoff_2 = calc_payoff_table(fixed_cost = 100, run_cost = 625, sales_price = 0.2, machine_ability = 5000, demand_boom = 10000 ,demand_slump = 5000)\n",
        "\n",
        "print(payoff_2)"
      ],
      "execution_count": 68,
      "outputs": [
        {
          "output_type": "stream",
          "text": [
            "        0台    1台    2台\n",
            "好況 -100.0  275.0  650.0\n",
            "不況 -100.0  275.0 -350.0\n"
          ],
          "name": "stdout"
        }
      ]
    },
    {
      "cell_type": "code",
      "metadata": {
        "colab": {
          "base_uri": "https://localhost:8080/"
        },
        "id": "VqxWYpC73LVm",
        "outputId": "e69afea7-567f-4160-a7d3-d18203f3ed1b"
      },
      "source": [
        "# 機械1台の稼働コストを減らした\n",
        "payoff_3 = calc_payoff_table(fixed_cost = 100, run_cost = 575, sales_price = 0.2, machine_ability = 5000, demand_boom = 10000 ,demand_slump = 5000)\n",
        "\n",
        "print(payoff_3)"
      ],
      "execution_count": 69,
      "outputs": [
        {
          "output_type": "stream",
          "text": [
            "        0台    1台    2台\n",
            "好況 -100.0  325.0  750.0\n",
            "不況 -100.0  325.0 -250.0\n"
          ],
          "name": "stdout"
        }
      ]
    },
    {
      "cell_type": "code",
      "metadata": {
        "colab": {
          "base_uri": "https://localhost:8080/"
        },
        "id": "hHA2F8KM3VJa",
        "outputId": "fde079e9-becc-4a8e-fec8-08f29e7d1038"
      },
      "source": [
        "minimax_regret(payoff_2)"
      ],
      "execution_count": 70,
      "outputs": [
        {
          "output_type": "execute_result",
          "data": {
            "text/plain": [
              "['1台']"
            ]
          },
          "metadata": {
            "tags": []
          },
          "execution_count": 70
        }
      ]
    },
    {
      "cell_type": "code",
      "metadata": {
        "colab": {
          "base_uri": "https://localhost:8080/"
        },
        "id": "zELTjreK3XaV",
        "outputId": "880f4276-fb61-4aab-a20f-88b3e47ccdca"
      },
      "source": [
        "minimax_regret(payoff_3)"
      ],
      "execution_count": 71,
      "outputs": [
        {
          "output_type": "execute_result",
          "data": {
            "text/plain": [
              "['1台']"
            ]
          },
          "metadata": {
            "tags": []
          },
          "execution_count": 71
        }
      ]
    },
    {
      "cell_type": "code",
      "metadata": {
        "colab": {
          "base_uri": "https://localhost:8080/"
        },
        "id": "o7UhXBXN3dk5",
        "outputId": "243f3775-1e0f-4ea5-edb0-a0247fcad375"
      },
      "source": [
        "# 機械1台の稼働コストをさらに減らした\n",
        "payoff_4 = calc_payoff_table(fixed_cost = 100, run_cost = 300, sales_price = 0.2, machine_ability = 5000, demand_boom = 10000 ,demand_slump = 5000)\n",
        "\n",
        "print(payoff_4)"
      ],
      "execution_count": 79,
      "outputs": [
        {
          "output_type": "stream",
          "text": [
            "        0台    1台     2台\n",
            "好況 -100.0  600.0  1300.0\n",
            "不況 -100.0  600.0   300.0\n"
          ],
          "name": "stdout"
        }
      ]
    },
    {
      "cell_type": "code",
      "metadata": {
        "colab": {
          "base_uri": "https://localhost:8080/"
        },
        "id": "7gUkLWtw3lDr",
        "outputId": "e332936a-90b9-4704-edf5-b02a2f4a596d"
      },
      "source": [
        "minimax_regret(payoff_4)"
      ],
      "execution_count": 80,
      "outputs": [
        {
          "output_type": "execute_result",
          "data": {
            "text/plain": [
              "['2台']"
            ]
          },
          "metadata": {
            "tags": []
          },
          "execution_count": 80
        }
      ]
    }
  ]
}