{
  "nbformat": 4,
  "nbformat_minor": 0,
  "metadata": {
    "colab": {
      "name": "chapter3.ipynb",
      "provenance": [],
      "collapsed_sections": [],
      "authorship_tag": "ABX9TyMCarHo3isoS8sFc6ecva2a",
      "include_colab_link": true
    },
    "kernelspec": {
      "name": "python3",
      "display_name": "Python 3"
    },
    "language_info": {
      "name": "python"
    }
  },
  "cells": [
    {
      "cell_type": "markdown",
      "metadata": {
        "id": "view-in-github",
        "colab_type": "text"
      },
      "source": [
        "<a href=\"https://colab.research.google.com/github/AnguillaJaponica/decision_analyzer/blob/master/chapter3.ipynb\" target=\"_parent\"><img src=\"https://colab.research.google.com/assets/colab-badge.svg\" alt=\"Open In Colab\"/></a>"
      ]
    },
    {
      "cell_type": "code",
      "metadata": {
        "id": "8dgPSVbmeDS5"
      },
      "source": [
        "# import libraries\n",
        "import numpy as np\n",
        "import pandas as pd\n",
        "# DataFrameの全角文字の出力をきれいにする。\n",
        "pd.set_option('display.unicode.east_asian_width', True)"
      ],
      "execution_count": 1,
      "outputs": []
    },
    {
      "cell_type": "code",
      "metadata": {
        "id": "TjPofJnwfNoq"
      },
      "source": [
        "# 利得を計算する際のパラメータ\n",
        "fixed_cost = 100\n",
        "run_cost = 600\n",
        "sales_price = 0.2\n",
        "\n",
        "machine_ability = 5000\n",
        "demand_boom = 10000\n",
        "demand_slump = 5000"
      ],
      "execution_count": 2,
      "outputs": []
    },
    {
      "cell_type": "code",
      "metadata": {
        "colab": {
          "base_uri": "https://localhost:8080/"
        },
        "id": "ElaTnRj3fs32",
        "outputId": "5924ba7e-38d7-46e5-86b2-286b7bce76c7"
      },
      "source": [
        "# 出荷される製品の個数\n",
        "num_product_df = pd.DataFrame({\n",
        "    '0台': [0, 0],\n",
        "    '1台': [min([machine_ability, demand_boom]),\n",
        "           min([machine_ability, demand_slump])],\n",
        "    '2台': [min([machine_ability * 2, demand_boom]),\n",
        "           min([machine_ability * 2, demand_slump])]\n",
        "})\n",
        "num_product_df.index = ['好況', '不況']\n",
        "print(num_product_df)"
      ],
      "execution_count": 3,
      "outputs": [
        {
          "output_type": "stream",
          "text": [
            "      0台   1台    2台\n",
            "好況    0  5000  10000\n",
            "不況    0  5000   5000\n"
          ],
          "name": "stdout"
        }
      ]
    },
    {
      "cell_type": "code",
      "metadata": {
        "colab": {
          "base_uri": "https://localhost:8080/"
        },
        "id": "fDFbFwHDhI76",
        "outputId": "e3d39e2f-d4a4-4327-fab3-a80c2184a27d"
      },
      "source": [
        "# 売上行列\n",
        "sales_df = num_product_df * sales_price\n",
        "print(sales_df)"
      ],
      "execution_count": 4,
      "outputs": [
        {
          "output_type": "stream",
          "text": [
            "      0台     1台     2台\n",
            "好況  0.0  1000.0  2000.0\n",
            "不況  0.0  1000.0  1000.0\n"
          ],
          "name": "stdout"
        }
      ]
    },
    {
      "cell_type": "code",
      "metadata": {
        "colab": {
          "base_uri": "https://localhost:8080/"
        },
        "id": "v1uGnhZdhqiX",
        "outputId": "252e8403-f039-47c9-9bf5-fff1e3192d4e"
      },
      "source": [
        "# 製造コスト\n",
        "run_cost_df = pd.DataFrame({\n",
        "    '0台': np.repeat(fixed_cost, 2),\n",
        "    '1台': np.repeat(fixed_cost + run_cost, 2),\n",
        "    '2台': np.repeat(fixed_cost + run_cost * 2, 2)\n",
        "})\n",
        "run_cost_df.index =  ['好況', '不況']\n",
        "print(run_cost_df)"
      ],
      "execution_count": 5,
      "outputs": [
        {
          "output_type": "stream",
          "text": [
            "      0台  1台   2台\n",
            "好況  100  700  1300\n",
            "不況  100  700  1300\n"
          ],
          "name": "stdout"
        }
      ]
    },
    {
      "cell_type": "code",
      "metadata": {
        "colab": {
          "base_uri": "https://localhost:8080/"
        },
        "id": "a424kdOYi3gz",
        "outputId": "1f90f085-026f-486d-b1a3-1b7681bc4910"
      },
      "source": [
        "# 利得行列\n",
        "paypff_df = sales_df - run_cost_df\n",
        "print(paypff_df)"
      ],
      "execution_count": 6,
      "outputs": [
        {
          "output_type": "stream",
          "text": [
            "        0台    1台    2台\n",
            "好況 -100.0  300.0  700.0\n",
            "不況 -100.0  300.0 -300.0\n"
          ],
          "name": "stdout"
        }
      ]
    },
    {
      "cell_type": "code",
      "metadata": {
        "id": "YuVEBOI-jT3F"
      },
      "source": [
        "# 利得行列を一発で作る関数\n",
        "\n",
        "def calc_payoff_table(fixed_cost, run_cost, sales_price, machine_ability, demand_boom ,demand_slump):\n",
        "  # 出荷される製品の個数\n",
        "  num_product_df = pd.DataFrame({\n",
        "      '0台': [0, 0],\n",
        "      '1台': [min([machine_ability, demand_boom]),\n",
        "            min([machine_ability, demand_slump])],\n",
        "      '2台': [min([machine_ability * 2, demand_boom]),\n",
        "            min([machine_ability * 2, demand_slump])]\n",
        "  })\n",
        "  sales_df = num_product_df * sales_price\n",
        "  # 製造コスト\n",
        "  run_cost_df = pd.DataFrame({\n",
        "      '0台': np.repeat(fixed_cost, 2),\n",
        "      '1台': np.repeat(fixed_cost + run_cost, 2),\n",
        "      '2台': np.repeat(fixed_cost + run_cost * 2, 2)\n",
        "  })\n",
        "  # 利得行列\n",
        "  paypff_df = sales_df - run_cost_df\n",
        "  paypff_df.index =  ['好況', '不況']\n",
        "  # 結果を返す\n",
        "  return(paypff_df)\n"
      ],
      "execution_count": 7,
      "outputs": []
    },
    {
      "cell_type": "code",
      "metadata": {
        "id": "tRFE6vEhlL3m"
      },
      "source": [
        "payoff = calc_payoff_table(fixed_cost = 100, run_cost = 600, sales_price = 0.2, machine_ability = 5000, demand_boom = 10000 ,demand_slump = 5000)"
      ],
      "execution_count": 8,
      "outputs": []
    },
    {
      "cell_type": "code",
      "metadata": {
        "colab": {
          "base_uri": "https://localhost:8080/"
        },
        "id": "Tv-wn7Cll-mt",
        "outputId": "7e8fc457-27a2-4b28-e2bd-364e12331124"
      },
      "source": [
        "# 選択肢ごとの最大利得\n",
        "payoff.max()"
      ],
      "execution_count": 9,
      "outputs": [
        {
          "output_type": "execute_result",
          "data": {
            "text/plain": [
              "0台   -100.0\n",
              "1台    300.0\n",
              "2台    700.0\n",
              "dtype: float64"
            ]
          },
          "metadata": {
            "tags": []
          },
          "execution_count": 9
        }
      ]
    },
    {
      "cell_type": "code",
      "metadata": {
        "colab": {
          "base_uri": "https://localhost:8080/"
        },
        "id": "Oj4MvLSvmSUc",
        "outputId": "cbc91625-c989-443a-cdb3-a6fc0314bb63"
      },
      "source": [
        "payoff.max().max()"
      ],
      "execution_count": 22,
      "outputs": [
        {
          "output_type": "execute_result",
          "data": {
            "text/plain": [
              "700.0"
            ]
          },
          "metadata": {
            "tags": []
          },
          "execution_count": 22
        }
      ]
    },
    {
      "cell_type": "code",
      "metadata": {
        "colab": {
          "base_uri": "https://localhost:8080/"
        },
        "id": "HRFsSflI7Z9z",
        "outputId": "3b712d4e-eeb5-4841-d043-66be9b30a0c6"
      },
      "source": [
        "payoff.max() == payoff.max().max()"
      ],
      "execution_count": 10,
      "outputs": [
        {
          "output_type": "execute_result",
          "data": {
            "text/plain": [
              "0台    False\n",
              "1台    False\n",
              "2台     True\n",
              "dtype: bool"
            ]
          },
          "metadata": {
            "tags": []
          },
          "execution_count": 10
        }
      ]
    },
    {
      "cell_type": "code",
      "metadata": {
        "colab": {
          "base_uri": "https://localhost:8080/"
        },
        "id": "ipJjNTvU9Y6I",
        "outputId": "fe177e78-4529-42bb-e81e-e63c711680bd"
      },
      "source": [
        "payoff.max()[payoff.max() == payoff.max().max()]"
      ],
      "execution_count": 11,
      "outputs": [
        {
          "output_type": "execute_result",
          "data": {
            "text/plain": [
              "2台    700.0\n",
              "dtype: float64"
            ]
          },
          "metadata": {
            "tags": []
          },
          "execution_count": 11
        }
      ]
    },
    {
      "cell_type": "code",
      "metadata": {
        "colab": {
          "base_uri": "https://localhost:8080/"
        },
        "id": "thE9Ye6b9gi9",
        "outputId": "dd801fa2-0e79-46ca-bee1-53c0f493ca49"
      },
      "source": [
        "list(payoff.max()[payoff.max() == payoff.max().max()].index)"
      ],
      "execution_count": 12,
      "outputs": [
        {
          "output_type": "execute_result",
          "data": {
            "text/plain": [
              "['2台']"
            ]
          },
          "metadata": {
            "tags": []
          },
          "execution_count": 12
        }
      ]
    },
    {
      "cell_type": "code",
      "metadata": {
        "id": "FgJFAPUC91tc"
      },
      "source": [
        "# 最大値を取るインデックスを取得する。最大値が複数ある場合は全て取得する。\n",
        "def argmax_list(series):\n",
        "  return(list(series[series == series.max()].index))\n",
        "\n",
        "# 最小値を取るインデックスを取得する。最小値が複数ある場合は全て取得する。\n",
        "def argmin_list(series):\n",
        "  return(list(series[series == series.min()].index))"
      ],
      "execution_count": 17,
      "outputs": []
    },
    {
      "cell_type": "code",
      "metadata": {
        "colab": {
          "base_uri": "https://localhost:8080/"
        },
        "id": "InC0vf0g_Fl9",
        "outputId": "2a1386b3-fdb0-4564-a944-3805fc573aff"
      },
      "source": [
        "print('Maximax: ', argmax_list(payoff.max()))"
      ],
      "execution_count": 16,
      "outputs": [
        {
          "output_type": "stream",
          "text": [
            "Maximax:  ['2台']\n"
          ],
          "name": "stdout"
        }
      ]
    },
    {
      "cell_type": "code",
      "metadata": {
        "colab": {
          "base_uri": "https://localhost:8080/"
        },
        "id": "ZFzcddXl_nKh",
        "outputId": "635f3e14-6cd7-4738-da24-ca6c5835054f"
      },
      "source": [
        "# 選択肢ごとの最小利得\n",
        "payoff.min()"
      ],
      "execution_count": 18,
      "outputs": [
        {
          "output_type": "execute_result",
          "data": {
            "text/plain": [
              "0台   -100.0\n",
              "1台    300.0\n",
              "2台   -300.0\n",
              "dtype: float64"
            ]
          },
          "metadata": {
            "tags": []
          },
          "execution_count": 18
        }
      ]
    },
    {
      "cell_type": "code",
      "metadata": {
        "colab": {
          "base_uri": "https://localhost:8080/"
        },
        "id": "NjV27ALr_7l-",
        "outputId": "8f7a21f3-468f-4ed9-f609-5d80b6dab845"
      },
      "source": [
        "print('Maximin: ', argmax_list(payoff.min()))"
      ],
      "execution_count": 19,
      "outputs": [
        {
          "output_type": "stream",
          "text": [
            "Maximin:  ['1台']\n"
          ],
          "name": "stdout"
        }
      ]
    }
  ]
}