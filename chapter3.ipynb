{
  "nbformat": 4,
  "nbformat_minor": 0,
  "metadata": {
    "colab": {
      "name": "chapter3.ipynb",
      "provenance": [],
      "collapsed_sections": [],
      "authorship_tag": "ABX9TyNo/SQfpAlpX2EympaDpjxs",
      "include_colab_link": true
    },
    "kernelspec": {
      "name": "python3",
      "display_name": "Python 3"
    },
    "language_info": {
      "name": "python"
    }
  },
  "cells": [
    {
      "cell_type": "markdown",
      "metadata": {
        "id": "view-in-github",
        "colab_type": "text"
      },
      "source": [
        "<a href=\"https://colab.research.google.com/github/AnguillaJaponica/decision_analyzer/blob/master/chapter3.ipynb\" target=\"_parent\"><img src=\"https://colab.research.google.com/assets/colab-badge.svg\" alt=\"Open In Colab\"/></a>"
      ]
    },
    {
      "cell_type": "code",
      "metadata": {
        "id": "8dgPSVbmeDS5"
      },
      "source": [
        "# import libraries\n",
        "import numpy as np\n",
        "import pandas as pd\n",
        "# DataFrameの全角文字の出力をきれいにする。\n",
        "pd.set_option('display.unicode.east_asian_width', True)"
      ],
      "execution_count": 1,
      "outputs": []
    },
    {
      "cell_type": "code",
      "metadata": {
        "id": "TjPofJnwfNoq"
      },
      "source": [
        "# 利得を計算する際のパラメータ\n",
        "fixed_cost = 100\n",
        "run_cost = 600\n",
        "sales_price = 0.2\n",
        "\n",
        "machine_ability = 5000\n",
        "demand_boom = 10000\n",
        "demand_slump = 5000"
      ],
      "execution_count": 2,
      "outputs": []
    },
    {
      "cell_type": "code",
      "metadata": {
        "colab": {
          "base_uri": "https://localhost:8080/"
        },
        "id": "ElaTnRj3fs32",
        "outputId": "024797f0-d9cb-46b5-d25f-45028ff2ab1b"
      },
      "source": [
        "# 出荷される製品の個数\n",
        "num_product_df = pd.DataFrame({\n",
        "    '0台': [0, 0],\n",
        "    '1台': [min([machine_ability, demand_boom]),\n",
        "           min([machine_ability, demand_slump])],\n",
        "    '2台': [min([machine_ability * 2, demand_boom]),\n",
        "           min([machine_ability * 2, demand_slump])]\n",
        "})\n",
        "num_product_df.index = ['好況', '不況']\n",
        "print(num_product_df)"
      ],
      "execution_count": 3,
      "outputs": [
        {
          "output_type": "stream",
          "text": [
            "      0台   1台    2台\n",
            "好況    0  5000  10000\n",
            "不況    0  5000   5000\n"
          ],
          "name": "stdout"
        }
      ]
    },
    {
      "cell_type": "code",
      "metadata": {
        "colab": {
          "base_uri": "https://localhost:8080/"
        },
        "id": "fDFbFwHDhI76",
        "outputId": "707caee2-e427-4eca-e5bd-1f0802d69643"
      },
      "source": [
        "# 売上行列\n",
        "sales_df = num_product_df * sales_price\n",
        "print(sales_df)"
      ],
      "execution_count": 4,
      "outputs": [
        {
          "output_type": "stream",
          "text": [
            "      0台     1台     2台\n",
            "好況  0.0  1000.0  2000.0\n",
            "不況  0.0  1000.0  1000.0\n"
          ],
          "name": "stdout"
        }
      ]
    },
    {
      "cell_type": "code",
      "metadata": {
        "colab": {
          "base_uri": "https://localhost:8080/"
        },
        "id": "v1uGnhZdhqiX",
        "outputId": "f4424f2d-6dac-43ee-fa15-9fdc6ecd5aaf"
      },
      "source": [
        "# 製造コスト\n",
        "run_cost_df = pd.DataFrame({\n",
        "    '0台': np.repeat(fixed_cost, 2),\n",
        "    '1台': np.repeat(fixed_cost + run_cost, 2),\n",
        "    '2台': np.repeat(fixed_cost + run_cost * 2, 2)\n",
        "})\n",
        "run_cost_df.index =  ['好況', '不況']\n",
        "print(run_cost_df)"
      ],
      "execution_count": 9,
      "outputs": [
        {
          "output_type": "stream",
          "text": [
            "      0台  1台   2台\n",
            "好況  100  700  1300\n",
            "不況  100  700  1300\n"
          ],
          "name": "stdout"
        }
      ]
    },
    {
      "cell_type": "code",
      "metadata": {
        "colab": {
          "base_uri": "https://localhost:8080/"
        },
        "id": "a424kdOYi3gz",
        "outputId": "925920b0-3fba-4483-9ba3-220ccfe78fa7"
      },
      "source": [
        "# 利得行列\n",
        "paypff_df = sales_df - run_cost_df\n",
        "print(paypff_df)"
      ],
      "execution_count": 10,
      "outputs": [
        {
          "output_type": "stream",
          "text": [
            "        0台    1台    2台\n",
            "好況 -100.0  300.0  700.0\n",
            "不況 -100.0  300.0 -300.0\n"
          ],
          "name": "stdout"
        }
      ]
    },
    {
      "cell_type": "code",
      "metadata": {
        "id": "YuVEBOI-jT3F"
      },
      "source": [
        "# 利得行列を一発で作る関数\n"
      ],
      "execution_count": null,
      "outputs": []
    }
  ]
}